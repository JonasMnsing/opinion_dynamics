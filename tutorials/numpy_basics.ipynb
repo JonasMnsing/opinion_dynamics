{
 "cells": [
  {
   "cell_type": "markdown",
   "metadata": {},
   "source": [
    "# Introduction to NumPy\n",
    "---"
   ]
  },
  {
   "cell_type": "markdown",
   "metadata": {},
   "source": [
    "### Import of Python Libraries\n",
    "- Import library via command `import name as nametag`, e.g. `import numpy as np`\n",
    "- This allows us to call all functions which are part of the library using the nametag, e.g. `np.array()` to create a numpy array or `np.sum(values)` to sum over `values`\n",
    "- Official NumPy Tutorial: https://numpy.org/learn/\n",
    "- Here we will just cover a couple of functions which might be of importance for our Opinion Dynamics project"
   ]
  },
  {
   "cell_type": "code",
   "execution_count": 2,
   "metadata": {},
   "outputs": [],
   "source": [
    "# Import Numpy\n",
    "import numpy as np"
   ]
  },
  {
   "cell_type": "markdown",
   "metadata": {},
   "source": [
    "### Creation of NumPy Arrays:\n",
    "- The core of NumPy are numpy arrays which essentially are matrices\n",
    "- The whole library is based on using those arrays for numerics\n",
    "- We can either build those arrays by hand (using specific values) or use a numpy based function"
   ]
  },
  {
   "cell_type": "code",
   "execution_count": 5,
   "metadata": {},
   "outputs": [
    {
     "name": "stdout",
     "output_type": "stream",
     "text": [
      "2D matrix of 3 row and column elements:\n",
      " [[1 2 3]\n",
      " [4 5 6]\n",
      " [7 8 9]] \n",
      "\n",
      "6x4 Matrix of random values inside range [-10,10):\n",
      " [[-3.41414117 -8.30284261  6.10022431 -0.43188695]\n",
      " [ 3.38141135 -1.91676864  7.00523072 -5.11327225]\n",
      " [ 8.70230954 -5.88653805 -7.94001931  6.54621209]\n",
      " [ 4.48592229 -4.57851461  4.46324927  6.07227625]\n",
      " [-2.43082735 -6.95534859  0.16585593  5.59416252]\n",
      " [-2.85836037 -4.64664758  0.81735982 -0.84490079]] \n",
      "\n",
      "10 linearly spaced values in between 1a and 10:\n",
      " [ 1.  2.  3.  4.  5.  6.  7.  8.  9. 10.] \n",
      "\n",
      "Previous row-vetor as column-vector:\n",
      " [[ 1.]\n",
      " [ 2.]\n",
      " [ 3.]\n",
      " [ 4.]\n",
      " [ 5.]\n",
      " [ 6.]\n",
      " [ 7.]\n",
      " [ 8.]\n",
      " [ 9.]\n",
      " [10.]] \n",
      "\n"
     ]
    }
   ],
   "source": [
    "# 2D Matrix by Hand:\n",
    "arr1 = np.array([[1,2,3],[4,5,6],[7,8,9]])\n",
    "\n",
    "print('2D matrix of 3 row and column elements:\\n', arr1, '\\n')\n",
    "\n",
    "# 6x4 Matrix of random values inside range [-10,10)\n",
    "arr2 = np.random.uniform(low=-10, high=10, size=(6,4))\n",
    "\n",
    "print('6x4 Matrix of random values inside range [-10,10):\\n', arr2, '\\n')\n",
    "\n",
    "# 10 linearly spaced values in between 1a and 10 (row-vector)\n",
    "arr3 = np.linspace(start=1, stop=10, num=10)\n",
    "\n",
    "print('10 linearly spaced values in between 1a and 10:\\n', arr3, '\\n')\n",
    "\n",
    "# Transform the previous row-vector to a column-vector\n",
    "arr4 = arr3[:,np.newaxis]\n",
    "\n",
    "print('Previous row-vetor as column-vector:\\n', arr4, '\\n')"
   ]
  },
  {
   "cell_type": "markdown",
   "metadata": {},
   "source": [
    "### Accessing elements in NumPy Arrays:\n",
    "- Use square brackets to access an element\n",
    "- As with all of Python, indexing starts at zero, i.e. element at index zero would be the first elements etc..\n",
    "- Example: Use `arr1[1,2]` to get the element at row=1 and column=2\n",
    "- When using `:`, we can access multiple elements at once or get portions of an array\n",
    "- Example: `arr1[1:3,0:2]` to get all elements from row=1 to row=3 and column=0 to column=2. The upper bound is not included\n",
    "- If we want all elements from the first or until the last index we can also just write `arr1[1:,:2]` which would be the same as above\n",
    "- When trying to access a non-existing index, an error is raised."
   ]
  },
  {
   "cell_type": "code",
   "execution_count": 7,
   "metadata": {},
   "outputs": [
    {
     "name": "stdout",
     "output_type": "stream",
     "text": [
      "[[4 5]\n",
      " [7 8]] \n",
      "\n",
      "[[4 5]\n",
      " [7 8]] \n",
      "\n",
      "[[ 8.70230954 -5.88653805 -7.94001931  6.54621209]\n",
      " [ 4.48592229 -4.57851461  4.46324927  6.07227625]\n",
      " [-2.43082735 -6.95534859  0.16585593  5.59416252]\n",
      " [-2.85836037 -4.64664758  0.81735982 -0.84490079]] \n",
      "\n"
     ]
    }
   ],
   "source": [
    "print(arr1[1:3,0:2], '\\n')\n",
    "print(arr1[1:,:2], '\\n')\n",
    "print(arr2[2:,:], '\\n')"
   ]
  },
  {
   "cell_type": "markdown",
   "metadata": {},
   "source": [
    "### Numerics with NumPy Arrays:\n",
    "- Numpy arrays are always combined element-wise\n",
    "  - `arr_a + arr_b` will add element-wise\n",
    "  - `arr_a * arr_b` will multiply element-wise\n",
    "  - `arr_a @ arr_b` will perform a matrix multiplication"
   ]
  },
  {
   "cell_type": "code",
   "execution_count": 17,
   "metadata": {},
   "outputs": [
    {
     "name": "stdout",
     "output_type": "stream",
     "text": [
      "Array a:\n",
      " [[-1  1 -5]\n",
      " [ 0 -3 -5]\n",
      " [-3 -4 -4]] \n",
      "\n",
      "Array b:\n",
      " [[-1 -5 -5]\n",
      " [-1  1  1]\n",
      " [ 4 -4 -1]] \n",
      "\n",
      "Array a + Array b:\n",
      " [[ -2  -4 -10]\n",
      " [ -1  -2  -4]\n",
      " [  1  -8  -5]] \n",
      "\n",
      "Array a * Array b:\n",
      " [[  1  -5  25]\n",
      " [  0  -3  -5]\n",
      " [-12  16   4]] \n",
      "\n",
      "Array a @ Array b:\n",
      " [[-20  26  11]\n",
      " [-17  17   2]\n",
      " [ -9  27  15]] \n",
      "\n"
     ]
    }
   ],
   "source": [
    "arr_a = np.random.randint(low=-5,high=5,size=(3,3))\n",
    "arr_b = np.random.randint(low=-5,high=5,size=(3,3))\n",
    "\n",
    "print(\"Array a:\\n\", arr_a, \"\\n\")\n",
    "print(\"Array b:\\n\", arr_b, \"\\n\")\n",
    "print(\"Array a + Array b:\\n\", arr_a+arr_b, \"\\n\")\n",
    "print(\"Array a * Array b:\\n\", arr_a*arr_b, \"\\n\")\n",
    "print(\"Array a @ Array b:\\n\", arr_a@arr_b, \"\\n\")"
   ]
  },
  {
   "cell_type": "markdown",
   "metadata": {},
   "source": [
    "- Some useful numpy functions:\n",
    "  - `np.sum(arr)` to calculate the sum across all elements in `arr`\n",
    "  - `np.mean(arr)` to calculate the mean across all elements in `arr`\n",
    "  - `np.abs(arr)` to return the absolute value of each element in `arr`\n",
    "  - `arr.shpae` to return the number of elements per dimension of `arr`, e.g. if `arr` is 2D, calling `arr.shape[0]` would return number of rows and `arr.shape[1]` number of columns\n",
    "  - `np.random.choice(arr)` randomly sample a value from `arr`\n",
    "  - `np.where(condition)` returns all indices where condition is True, e.g. `np.where(arr==1)` would return all indices where elements of `arr` are 1\n",
    "- Most function allow to define the `axis` argument which allows us to specify over which dimension we want to apply the function\n",
    "  - If `arr` is a 2D array, `np.sum(arr, axis=0)` sums along rows\n",
    "  - If `arr` is a 2D array, `np.mean(arr, axis=1)` averages along columns"
   ]
  },
  {
   "cell_type": "code",
   "execution_count": 23,
   "metadata": {},
   "outputs": [
    {
     "name": "stdout",
     "output_type": "stream",
     "text": [
      "Array a:\n",
      " [[-1  1 -5]\n",
      " [ 0 -3 -5]\n",
      " [-3 -4 -4]] \n",
      "\n",
      "Sum along rows:\n",
      " [ -4  -6 -14] \n",
      "\n",
      "Mean along columns:\n",
      " [-1.66666667 -2.66666667 -3.66666667] \n",
      "\n"
     ]
    }
   ],
   "source": [
    "print(\"Array a:\\n\", arr_a, \"\\n\")\n",
    "print(\"Sum along rows:\\n\", np.sum(arr_a,axis=0), \"\\n\")\n",
    "print(\"Mean along columns:\\n\", np.mean(arr_a,axis=1), \"\\n\")"
   ]
  },
  {
   "cell_type": "markdown",
   "metadata": {},
   "source": [
    "### Functions in Python\n",
    "- In General it is adventageous to summarize mutiple lines of code in function and seperate your code in different concerns\n",
    "- Using `def function_name(argument1, argument2):` to define a function called `function_name` which takes the arguments `argument1` and `argument2`\n",
    "- The code executed when calling the function is inside the function body\n",
    "- If the funciton should return a value e.g. `x`, finish the function body via `return x`"
   ]
  },
  {
   "cell_type": "code",
   "execution_count": 27,
   "metadata": {},
   "outputs": [
    {
     "name": "stdout",
     "output_type": "stream",
     "text": [
      "Array 1:\n",
      " [[-2  4 -1 -4 -2 -5 -1 -3  0 -2]\n",
      " [-5 -5  3 -2  3  3 -5 -5  4 -1]\n",
      " [ 1 -1  0 -3  4 -3  4 -5  1  3]\n",
      " [ 0 -5  3 -2 -4 -5 -1 -5  2  2]\n",
      " [ 0  4 -2  3  0 -3  3  2  0 -4]\n",
      " [ 2 -3 -4  0 -2 -2  1 -5  3  4]\n",
      " [ 1 -2  3 -1  2 -3  3  4  1 -5]\n",
      " [ 4 -5  4 -2  4 -3  4  0 -1  3]\n",
      " [-5 -4  2 -2  3  2 -3 -3  0 -5]\n",
      " [ 3  4  3  3  3  4  0  1  1  3]] \n",
      "\n",
      "Array 1:\n",
      " [[-2  0  0  1  0  1  1 -5 -5  2]\n",
      " [ 1  2  4  0 -2  0  1  2 -3 -5]\n",
      " [-4  1 -5 -2 -3 -3 -5  3  4  3]\n",
      " [ 4 -4 -1  4  4 -5  1  0 -5  2]\n",
      " [ 2  3  4 -4 -4 -1 -2  2  4  1]\n",
      " [ 1  0  4  4 -4 -2 -3  4 -2 -1]\n",
      " [-4 -2 -1  0  2 -5  1  2 -2  4]\n",
      " [ 3 -3 -4  2 -1 -5  4  0  1  2]\n",
      " [ 3 -2  1 -5  0 -4  4  3 -3 -5]\n",
      " [ 4 -3  1  2 -5 -2 -2 -2 -4 -1]] \n",
      "\n"
     ]
    }
   ],
   "source": [
    "def return_where_value_matches(arr1, arr2, value):\n",
    "    \"\"\"Function which returns all elements of arr1 at which arr2 equals values\"\"\"\n",
    "\n",
    "    idx     = np.where(arr2==value)\n",
    "    arr3    = arr1[idx]\n",
    "\n",
    "    return arr3\n",
    "\n",
    "shape   = (10,10)\n",
    "arr_1   = np.random.randint(low=-5,high=5,size=shape)\n",
    "arr_2   = np.random.randint(low=-5,high=5,size=shape)\n",
    "\n",
    "print(\"Array 1:\\n\", arr_1, \"\\n\")\n",
    "print(\"Array 1:\\n\", arr_2, \"\\n\")\n",
    "\n",
    "arr3    = return_where_value_matches(arr1=arr_1, arr2=arr2, value=)"
   ]
  },
  {
   "cell_type": "code",
   "execution_count": 5,
   "metadata": {},
   "outputs": [
    {
     "data": {
      "text/plain": [
       "array([[[-0.36649819],\n",
       "        [-4.40928346],\n",
       "        [-4.70884276],\n",
       "        [-3.91577457],\n",
       "        [-2.44127063]],\n",
       "\n",
       "       [[ 0.24132285],\n",
       "        [ 0.60454247],\n",
       "        [-2.48688499],\n",
       "        [-3.61759201],\n",
       "        [-4.13802158]],\n",
       "\n",
       "       [[-4.45419864],\n",
       "        [-3.73258923],\n",
       "        [-0.61330219],\n",
       "        [-1.40141049],\n",
       "        [ 0.73043485]],\n",
       "\n",
       "       [[-0.32801036],\n",
       "        [-1.11066146],\n",
       "        [-3.5702478 ],\n",
       "        [-1.02153367],\n",
       "        [-2.099118  ]],\n",
       "\n",
       "       [[-2.29326359],\n",
       "        [-3.66110123],\n",
       "        [-0.66053178],\n",
       "        [-3.80032446],\n",
       "        [-0.38227265]]])"
      ]
     },
     "execution_count": 5,
     "metadata": {},
     "output_type": "execute_result"
    }
   ],
   "source": [
    "# Eine Liste kann man, wie bereits oben gezeigt, auch immer in ein Array umwandeln\n",
    "# Was im Falle der obigen Liste gefüllt mit 2D Arrays zu einem 3D Array führt\n",
    "my_arrays_in_an_array = np.array(my_arrays_in_a_list)\n",
    "my_arrays_in_an_array"
   ]
  },
  {
   "cell_type": "code",
   "execution_count": 6,
   "metadata": {},
   "outputs": [
    {
     "data": {
      "text/plain": [
       "(5, 5, 1)"
      ]
     },
     "execution_count": 6,
     "metadata": {},
     "output_type": "execute_result"
    }
   ],
   "source": [
    "# Shape eines Arrays (Anzahl Elemente in jede Dimension):\n",
    "my_arrays_in_an_array.shape"
   ]
  },
  {
   "cell_type": "markdown",
   "metadata": {},
   "source": [
    "Hier noch ein paar nützliche Funktionen"
   ]
  },
  {
   "cell_type": "code",
   "execution_count": 7,
   "metadata": {},
   "outputs": [
    {
     "data": {
      "text/plain": [
       "array([[-33.47082857],\n",
       "       [-39.39258223],\n",
       "       [-31.71170567],\n",
       "       [-40.45936034]])"
      ]
     },
     "execution_count": 7,
     "metadata": {},
     "output_type": "execute_result"
    }
   ],
   "source": [
    "# 2D Array (4 Reihen, 4 Spalten) mit gleichverteilten Werten zwischen -1 und 10\n",
    "arr5 = np.random.uniform(low=-1, high=10, size=(4,4))\n",
    "\n",
    "# 2D Array (4 Reihen, 1 Spalten) mit normalverteilten Werten mean = 0, standardabweichung 2\n",
    "arr6 = np.random.normal(loc=0, scale=2, size=(4,1))\n",
    "\n",
    "# Matrix Multiplikation\n",
    "arr7 = arr5 @ arr6\n",
    "arr7"
   ]
  },
  {
   "cell_type": "code",
   "execution_count": 8,
   "metadata": {},
   "outputs": [
    {
     "data": {
      "text/plain": [
       "array([[-19.3841036 , -14.09295055, -11.6890637 , -10.23926606],\n",
       "       [ -5.85098293, -22.26530662, -24.71433019, -22.18874597],\n",
       "       [ -0.72639109,  -5.04818322,  -3.15675094,  -1.90796575],\n",
       "       [ -2.40080135,  -3.53694958,   0.30173353,  -3.23663142]])"
      ]
     },
     "execution_count": 8,
     "metadata": {},
     "output_type": "execute_result"
    }
   ],
   "source": [
    "# Mathematische Operation werden element-wise durchgeführt\n",
    "arr7 = arr5 * arr6\n",
    "arr7"
   ]
  },
  {
   "cell_type": "code",
   "execution_count": 9,
   "metadata": {},
   "outputs": [
    {
     "name": "stdout",
     "output_type": "stream",
     "text": [
      "Max of arr5:\n",
      " 9.896819123589744\n",
      "Max of arr5:\n",
      " -0.6788937916997706\n",
      "Max of arr5:\n",
      " 5.40192578413196\n",
      "Max of arr5:\n",
      " 3.0159138342327587\n",
      "Abs of arr5:\n",
      " [[5.90689425 4.29452764 3.56199413 3.12019906]\n",
      " [2.34301797 8.91611104 9.89681912 8.88545244]\n",
      " [1.30963561 9.10154403 5.69141539 3.4399374 ]\n",
      " [5.40175016 7.95805867 0.67889379 7.28234942]]\n",
      "Sum of arr5:\n",
      " 86.43081254611135\n",
      "Round arr5:\n",
      " [[ 5.91  4.29  3.56  3.12]\n",
      " [ 2.34  8.92  9.9   8.89]\n",
      " [ 1.31  9.1   5.69  3.44]\n",
      " [ 5.4   7.96 -0.68  7.28]]\n"
     ]
    }
   ],
   "source": [
    "# Maximum\n",
    "print(\"Max of arr5:\\n\", np.max(arr5))\n",
    "\n",
    "# Minimum\n",
    "print(\"Max of arr5:\\n\", np.min(arr5))\n",
    "\n",
    "# Mean\n",
    "print(\"Max of arr5:\\n\", np.mean(arr5))\n",
    "\n",
    "# Standard Deviation\n",
    "print(\"Max of arr5:\\n\", np.std(arr5))\n",
    "\n",
    "# Absolute\n",
    "print(\"Abs of arr5:\\n\", np.abs(arr5))\n",
    "\n",
    "# Sum\n",
    "print(\"Sum of arr5:\\n\", np.sum(arr5))\n",
    "\n",
    "# Round\n",
    "print(\"Round arr5:\\n\", np.round(arr5,2))"
   ]
  },
  {
   "cell_type": "code",
   "execution_count": 10,
   "metadata": {},
   "outputs": [
    {
     "name": "stdout",
     "output_type": "stream",
     "text": [
      "Array:\n",
      " [[-4.72145136 -8.72371301  3.50358448  6.56120278]\n",
      " [ 4.84222374  2.7209878   4.70053277  5.41546621]\n",
      " [ 2.13844765  8.75570377 -6.88148575  5.57440398]\n",
      " [ 1.29635062  0.13240471  0.17978886  1.1950813 ]\n",
      " [-5.89621164  8.43250484 -7.15642436 -0.78529914]\n",
      " [ 7.61674607  5.43882763 -3.76713469  6.04573467]]\n",
      "Mean Spalte:\n",
      " [ 0.87935085  2.79278596 -1.57018978  4.0010983 ]\n",
      "Mean Reihe:\n",
      " [-0.84509428  4.41980263  2.39676741  0.70090637 -1.35135757  3.83354342]\n"
     ]
    }
   ],
   "source": [
    "# Um Funktionen entlang einer Reihe oder Spalte durchzuführen verwende das axis argument\n",
    "print(\"Array:\\n\", arr2)\n",
    "\n",
    "# Mean jeder Spalte\n",
    "print(\"Mean Spalte:\\n\", np.mean(arr2,axis=0))\n",
    "\n",
    "# Mean jeder Reihe\n",
    "print(\"Mean Reihe:\\n\", np.mean(arr2,axis=1))"
   ]
  },
  {
   "cell_type": "markdown",
   "metadata": {},
   "source": [
    "Übunsaufgabe:\\\n",
    "Erstelle eine Funktion die eine AR(p) Zeitreihe generiert.\\\n",
    "    $ AR(p) : Y_t = \\sum_{t_0=1}^p \\phi_{t_0} Y_{t-t_0} + \\epsilon_{t} $ \\\n",
    "Die Funktion sollte die Länge der Zeitreihe (length), die Anzahl an betrachteten lags (p) und die Parameter (phi) als Argumente aufnehmen.\\\n",
    "Für phi sollen die Werte als Liste, also `[phi1, phi2, phi3, ...]` angegeben werden, wobei die Länge der Liste über p festgelegt ist.\\\n",
    "Speichere die Werte für `phi=[0.2, 0.1, -0.6, 0.0, -0.4, 0.3]`, `p=6`, und `length=1000` ab.\\\n",
    "Speicher array via `np.savetxt(fname='time_series.csv', X=ts_array)` ab. Das erste Argument, gibt den Pfad + Filename an, das zweite wäre das zu spechernde array."
   ]
  },
  {
   "cell_type": "code",
   "execution_count": null,
   "metadata": {},
   "outputs": [],
   "source": []
  },
  {
   "cell_type": "markdown",
   "metadata": {},
   "source": [
    "Übunsaufgabe:\\\n",
    "Erstelle eine Funktion die eine MA(q) Zeitreihe generiert.\\\n",
    "    $ MA(q) :  Y_t = \\mu + \\sum_{t_0=1}^q \\theta_{t_0} \\epsilon_{t-t_0} + \\epsilon_t $ \\\n",
    "Die Funktion sollte die Länge der Zeitreihe (length), die Anzahl an betrachteten lags (p) und die Parameter (theta) als Argumente aufnehmen."
   ]
  },
  {
   "cell_type": "code",
   "execution_count": null,
   "metadata": {},
   "outputs": [],
   "source": []
  }
 ],
 "metadata": {
  "kernelspec": {
   "display_name": "Python 3",
   "language": "python",
   "name": "python3"
  },
  "language_info": {
   "codemirror_mode": {
    "name": "ipython",
    "version": 3
   },
   "file_extension": ".py",
   "mimetype": "text/x-python",
   "name": "python",
   "nbconvert_exporter": "python",
   "pygments_lexer": "ipython3",
   "version": "3.11.10"
  }
 },
 "nbformat": 4,
 "nbformat_minor": 2
}
