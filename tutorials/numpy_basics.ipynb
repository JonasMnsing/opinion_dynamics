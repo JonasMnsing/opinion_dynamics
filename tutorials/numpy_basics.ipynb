{
 "cells": [
  {
   "cell_type": "markdown",
   "metadata": {},
   "source": [
    "# Introduction to NumPy\n",
    "---"
   ]
  },
  {
   "cell_type": "markdown",
   "metadata": {},
   "source": [
    "### Import of Python Libraries\n",
    "- Import library via command `import name as nametag`, e.g. `import numpy as np`\n",
    "- This allows us to call all functions which are part of the library using the nametag, e.g. `np.array()` to create a numpy array or `np.sum(values)` to sum over `values`\n",
    "- Official NumPy Tutorial: https://numpy.org/learn/\n",
    "- Here we will just cover a couple of functions which might be of importance for our Opinion Dynamics project"
   ]
  },
  {
   "cell_type": "code",
   "execution_count": 8,
   "metadata": {},
   "outputs": [],
   "source": [
    "# Import Numpy\n",
    "import numpy as np"
   ]
  },
  {
   "cell_type": "markdown",
   "metadata": {},
   "source": [
    "### Creation of NumPy Arrays:\n",
    "- The core of NumPy are numpy arrays which essentially are matrices\n",
    "- The whole library is based on using those arrays for numerics\n",
    "- We can either build those arrays by hand (using specific values) or use a numpy based function"
   ]
  },
  {
   "cell_type": "code",
   "execution_count": 9,
   "metadata": {},
   "outputs": [
    {
     "name": "stdout",
     "output_type": "stream",
     "text": [
      "2D matrix of 3 row and column elements:\n",
      " [[1 2 3]\n",
      " [4 5 6]\n",
      " [7 8 9]] \n",
      "\n",
      "6x4 Matrix of random values inside range [-10,10):\n",
      " [[ 8.06914903 -8.1764998  -3.10416737 -1.34053246]\n",
      " [ 8.96994721 -0.08403376  6.95991752  5.22273781]\n",
      " [ 0.14753182  0.21683464  5.09955459 -5.5139866 ]\n",
      " [ 3.70759999 -3.87033809 -6.13699417 -2.43035472]\n",
      " [ 5.93691552  1.29979269  1.13547119  5.43304535]\n",
      " [-7.15608799  9.56082048  2.4920498   6.60599   ]] \n",
      "\n",
      "10 linearly spaced values in between 1a and 10:\n",
      " [ 1.  2.  3.  4.  5.  6.  7.  8.  9. 10.] \n",
      "\n",
      "Previous row-vetor as column-vector:\n",
      " [[ 1.]\n",
      " [ 2.]\n",
      " [ 3.]\n",
      " [ 4.]\n",
      " [ 5.]\n",
      " [ 6.]\n",
      " [ 7.]\n",
      " [ 8.]\n",
      " [ 9.]\n",
      " [10.]] \n",
      "\n"
     ]
    }
   ],
   "source": [
    "# 2D Matrix by Hand:\n",
    "arr1 = np.array([[1,2,3],[4,5,6],[7,8,9]])\n",
    "\n",
    "print('2D matrix of 3 row and column elements:\\n', arr1, '\\n')\n",
    "\n",
    "# 6x4 Matrix of random values inside range [-10,10)\n",
    "arr2 = np.random.uniform(low=-10, high=10, size=(6,4))\n",
    "\n",
    "print('6x4 Matrix of random values inside range [-10,10):\\n', arr2, '\\n')\n",
    "\n",
    "# 10 linearly spaced values in between 1a and 10 (row-vector)\n",
    "arr3 = np.linspace(start=1, stop=10, num=10)\n",
    "\n",
    "print('10 linearly spaced values in between 1a and 10:\\n', arr3, '\\n')\n",
    "\n",
    "# Transform the previous row-vector to a column-vector\n",
    "arr4 = arr3[:,np.newaxis]\n",
    "\n",
    "print('Previous row-vetor as column-vector:\\n', arr4, '\\n')"
   ]
  },
  {
   "cell_type": "markdown",
   "metadata": {},
   "source": [
    "### Accessing elements in NumPy Arrays:\n",
    "- Use square brackets to access an element\n",
    "- As with all of Python, indexing starts at zero, i.e. element at index zero would be the first elements etc..\n",
    "- Example: Use `arr1[1,2]` to get the element at row=1 and column=2\n",
    "- When using `:`, we can access multiple elements at once or get portions of an array\n",
    "- Example: `arr1[1:3,0:2]` to get all elements from row=1 to row=3 and column=0 to column=2. The upper bound is not included\n",
    "- If we want all elements from the first or until the last index we can also just write `arr1[1:,:2]` which would be the same as above\n",
    "- When trying to access a non-existing index, an error is raised."
   ]
  },
  {
   "cell_type": "code",
   "execution_count": 10,
   "metadata": {},
   "outputs": [
    {
     "name": "stdout",
     "output_type": "stream",
     "text": [
      "[[4 5]\n",
      " [7 8]] \n",
      "\n",
      "[[4 5]\n",
      " [7 8]] \n",
      "\n",
      "[[ 0.14753182  0.21683464  5.09955459 -5.5139866 ]\n",
      " [ 3.70759999 -3.87033809 -6.13699417 -2.43035472]\n",
      " [ 5.93691552  1.29979269  1.13547119  5.43304535]\n",
      " [-7.15608799  9.56082048  2.4920498   6.60599   ]] \n",
      "\n"
     ]
    }
   ],
   "source": [
    "print(arr1[1:3,0:2], '\\n')\n",
    "print(arr1[1:,:2], '\\n')\n",
    "print(arr2[2:,:], '\\n')"
   ]
  },
  {
   "cell_type": "markdown",
   "metadata": {},
   "source": [
    "### Numerics with NumPy Arrays:\n",
    "- Numpy arrays are always combined element-wise\n",
    "  - `arr_a + arr_b` will add element-wise\n",
    "  - `arr_a * arr_b` will multiply element-wise\n",
    "  - `arr_a @ arr_b` will perform a matrix multiplication"
   ]
  },
  {
   "cell_type": "code",
   "execution_count": 11,
   "metadata": {},
   "outputs": [
    {
     "name": "stdout",
     "output_type": "stream",
     "text": [
      "Array a:\n",
      " [[-4 -5  4]\n",
      " [-5  4 -1]\n",
      " [ 1  1 -1]] \n",
      "\n",
      "Array b:\n",
      " [[-5 -5 -5]\n",
      " [-1 -5  1]\n",
      " [-4 -2 -1]] \n",
      "\n",
      "Array a + Array b:\n",
      " [[ -9 -10  -1]\n",
      " [ -6  -1   0]\n",
      " [ -3  -1  -2]] \n",
      "\n",
      "Array a * Array b:\n",
      " [[ 20  25 -20]\n",
      " [  5 -20  -1]\n",
      " [ -4  -2   1]] \n",
      "\n",
      "Array a @ Array b:\n",
      " [[ 9 37 11]\n",
      " [25  7 30]\n",
      " [-2 -8 -3]] \n",
      "\n"
     ]
    }
   ],
   "source": [
    "arr_a = np.random.randint(low=-5,high=5,size=(3,3))\n",
    "arr_b = np.random.randint(low=-5,high=5,size=(3,3))\n",
    "\n",
    "print(\"Array a:\\n\", arr_a, \"\\n\")\n",
    "print(\"Array b:\\n\", arr_b, \"\\n\")\n",
    "print(\"Array a + Array b:\\n\", arr_a+arr_b, \"\\n\")\n",
    "print(\"Array a * Array b:\\n\", arr_a*arr_b, \"\\n\")\n",
    "print(\"Array a @ Array b:\\n\", arr_a@arr_b, \"\\n\")"
   ]
  },
  {
   "cell_type": "markdown",
   "metadata": {},
   "source": [
    "- Some useful numpy functions:\n",
    "  - `np.sum(arr)` to calculate the sum across all elements in `arr`\n",
    "  - `np.mean(arr)` to calculate the mean across all elements in `arr`\n",
    "  - `np.abs(arr)` to return the absolute value of each element in `arr`\n",
    "  - `arr.shpae` to return the number of elements per dimension of `arr`, e.g. if `arr` is 2D, calling `arr.shape[0]` would return number of rows and `arr.shape[1]` number of columns\n",
    "  - `np.random.choice(arr)` randomly sample a value from `arr`\n",
    "  - `np.where(condition)` returns all indices where condition is True, e.g. `np.where(arr==1)` would return all indices where elements of `arr` are 1\n",
    "- Most function allow to define the `axis` argument which allows us to specify over which dimension we want to apply the function\n",
    "  - If `arr` is a 2D array, `np.sum(arr, axis=0)` sums along rows\n",
    "  - If `arr` is a 2D array, `np.mean(arr, axis=1)` averages along columns"
   ]
  },
  {
   "cell_type": "code",
   "execution_count": 12,
   "metadata": {},
   "outputs": [
    {
     "name": "stdout",
     "output_type": "stream",
     "text": [
      "Array a:\n",
      " [[-4 -5  4]\n",
      " [-5  4 -1]\n",
      " [ 1  1 -1]] \n",
      "\n",
      "Sum along rows:\n",
      " [-8  0  2] \n",
      "\n",
      "Mean along columns:\n",
      " [-1.66666667 -0.66666667  0.33333333] \n",
      "\n"
     ]
    }
   ],
   "source": [
    "print(\"Array a:\\n\", arr_a, \"\\n\")\n",
    "print(\"Sum along rows:\\n\", np.sum(arr_a,axis=0), \"\\n\")\n",
    "print(\"Mean along columns:\\n\", np.mean(arr_a,axis=1), \"\\n\")"
   ]
  },
  {
   "cell_type": "markdown",
   "metadata": {},
   "source": [
    "### Functions in Python\n",
    "- In General it is adventageous to summarize mutiple lines of code in function and seperate your code in different concerns\n",
    "- Using `def function_name(argument1, argument2):` to define a function called `function_name` which takes the arguments `argument1` and `argument2`\n",
    "- The code executed when calling the function is inside the function body\n",
    "- If the funciton should return a value e.g. `x`, finish the function body via `return x`"
   ]
  },
  {
   "cell_type": "code",
   "execution_count": 21,
   "metadata": {},
   "outputs": [
    {
     "name": "stdout",
     "output_type": "stream",
     "text": [
      "Array 1:\n",
      " [[ 4 -5 -5 -5 -1 -1  4 -3  3 -1]\n",
      " [-5 -5 -2 -2  1  4  3 -1 -5  4]\n",
      " [ 4  1  2 -3 -5  3  3 -3 -4 -2]\n",
      " [-4 -2 -1 -2 -2 -2 -4 -4 -1  1]\n",
      " [-1  2  4 -2  2  3 -4  3 -4 -5]\n",
      " [-5 -3 -1 -1  0  2  4  3  1  1]\n",
      " [ 0 -2  4  1  2  3 -1  4  1 -3]\n",
      " [-5 -5  2 -4  3  4  1  1  4  4]\n",
      " [ 2  2  1  2 -2 -2  0  4  2  2]\n",
      " [-1  1 -2  1  4  2 -1  1  2 -3]] \n",
      "\n",
      "Array 2:\n",
      " [[-5  0  2 -4  0  4  2  4 -5 -2]\n",
      " [-5  2  1  2  1  3 -1  2 -4 -3]\n",
      " [ 0  0 -2  3 -2 -2 -4  1  0  0]\n",
      " [-1  1 -1  3 -5 -3 -4  4 -1 -5]\n",
      " [ 2  4  0 -2 -5 -1  0  2  3 -4]\n",
      " [ 3 -2 -2  3 -2  0  1  0  0  1]\n",
      " [-4 -4 -2 -1 -2  0 -2 -2  1  0]\n",
      " [-2 -4  3  2  4 -4 -4  2  3  1]\n",
      " [ 4  3  2  3 -5 -2 -1 -4  4 -3]\n",
      " [ 3 -4  0  3 -2  0 -3 -2 -5 -3]] \n",
      "\n",
      "Array 3:\n",
      " [-2  1 -3 -2  4  1  1  4] \n",
      "\n"
     ]
    }
   ],
   "source": [
    "def return_where_value_matches(arr1, arr2, value):\n",
    "    \"\"\"Function which returns all elements of arr1 at which arr2 equals values\"\"\"\n",
    "\n",
    "    idx     = np.where(arr2==value)\n",
    "    arr3    = arr1[idx]\n",
    "\n",
    "    return arr3\n",
    "\n",
    "shape   = (10,10)\n",
    "arr_1   = np.random.randint(low=-5,high=5,size=shape)\n",
    "arr_2   = np.random.randint(low=-5,high=5,size=shape)\n",
    "\n",
    "print(\"Array 1:\\n\", arr_1, \"\\n\")\n",
    "print(\"Array 2:\\n\", arr_2, \"\\n\")\n",
    "\n",
    "arr_3   = return_where_value_matches(arr1=arr_1, arr2=arr_2, value=1)\n",
    "\n",
    "print(\"Array 3:\\n\", arr_3, \"\\n\")"
   ]
  },
  {
   "cell_type": "code",
   "execution_count": null,
   "metadata": {},
   "outputs": [],
   "source": []
  }
 ],
 "metadata": {
  "kernelspec": {
   "display_name": "Python 3",
   "language": "python",
   "name": "python3"
  },
  "language_info": {
   "codemirror_mode": {
    "name": "ipython",
    "version": 3
   },
   "file_extension": ".py",
   "mimetype": "text/x-python",
   "name": "python",
   "nbconvert_exporter": "python",
   "pygments_lexer": "ipython3",
   "version": "3.12.3"
  }
 },
 "nbformat": 4,
 "nbformat_minor": 2
}
